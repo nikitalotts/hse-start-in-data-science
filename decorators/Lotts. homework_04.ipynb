{
 "cells": [
  {
   "cell_type": "markdown",
   "metadata": {
    "id": "QY4qPJPpgyIS"
   },
   "source": [
    "# Домашнее задание: декораторы"
   ]
  },
  {
   "cell_type": "markdown",
   "metadata": {
    "id": "Chacc6YchldZ"
   },
   "source": [
    "## Импорт библиотек, установка констант"
   ]
  },
  {
   "cell_type": "code",
   "execution_count": 39,
   "metadata": {
    "ExecuteTime": {
     "end_time": "2024-03-11T04:38:12.239009700Z",
     "start_time": "2024-03-11T04:38:12.222009Z"
    },
    "id": "w8iKrWvwhrFd"
   },
   "outputs": [],
   "source": [
    "import re\n",
    "import time\n",
    "import typing\n",
    "import requests\n",
    "\n",
    "from random import randint\n",
    "import functools\n",
    "from typing import TypeVar\n",
    "from collections.abc import Callable\n",
    "from typing import TypeVar\n",
    "from typing_extensions import  ParamSpec"
   ]
  },
  {
   "cell_type": "code",
   "execution_count": 40,
   "metadata": {
    "ExecuteTime": {
     "end_time": "2024-03-11T04:38:12.461042200Z",
     "start_time": "2024-03-11T04:38:12.435008800Z"
    },
    "collapsed": false
   },
   "outputs": [],
   "source": [
    "P = ParamSpec(\"P\")\n",
    "T = TypeVar(\"T\")"
   ]
  },
  {
   "cell_type": "code",
   "execution_count": 41,
   "metadata": {
    "ExecuteTime": {
     "end_time": "2024-03-11T04:38:12.641005900Z",
     "start_time": "2024-03-11T04:38:12.633008300Z"
    },
    "id": "-LRkS0fSi8Np"
   },
   "outputs": [],
   "source": [
    "BOOK_PATH = 'https://www.gutenberg.org/files/2638/2638-0.txt'"
   ]
  },
  {
   "cell_type": "markdown",
   "metadata": {
    "id": "kARfL8ifg4MH"
   },
   "source": [
    "## Задание 1"
   ]
  },
  {
   "cell_type": "code",
   "execution_count": 55,
   "metadata": {
    "ExecuteTime": {
     "end_time": "2024-03-11T04:42:18.152981200Z",
     "start_time": "2024-03-11T04:42:18.133600200Z"
    },
    "id": "hNHNWPhngrUl"
   },
   "outputs": [],
   "source": [
    "def benchmark(func : Callable[P, T]) -> Callable[P, T]:\n",
    "    @functools.wraps(func)\n",
    "    def wrapper(*args: P.args, **kwargs: P.kwargs) -> T:\n",
    "        start_time = time.time()\n",
    "        r = func(*args, **kwargs)\n",
    "        end_time = time.time()\n",
    "        print(f\"Время выполнения функции {func.__name__}: {end_time - start_time}\", end=\"\\n\\n\")\n",
    "        return r\n",
    "    return wrapper"
   ]
  },
  {
   "cell_type": "markdown",
   "metadata": {
    "id": "tGlbUKjihL5n"
   },
   "source": [
    "## Задание 2"
   ]
  },
  {
   "cell_type": "code",
   "execution_count": 56,
   "metadata": {
    "ExecuteTime": {
     "end_time": "2024-03-11T04:42:18.468486700Z",
     "start_time": "2024-03-11T04:42:18.449489100Z"
    },
    "id": "wugOZDLqhNe-"
   },
   "outputs": [],
   "source": [
    "def logging(func: Callable[P, T]) -> Callable[P, T]:\n",
    "    @functools.wraps(func)\n",
    "    def wrapper(*args: P.args, **kwargs: P.kwargs) -> T:\n",
    "        r = func(*args, **kwargs)\n",
    "        print(\"Функция вызвана с параметрами:\\n\"\n",
    "              f\"{args}, {kwargs}\", end=\"\\n\\n\")\n",
    "        return r\n",
    "    return wrapper"
   ]
  },
  {
   "cell_type": "markdown",
   "metadata": {
    "id": "Sq1tv5fshTfv"
   },
   "source": [
    "## Задание 3"
   ]
  },
  {
   "cell_type": "code",
   "execution_count": 57,
   "metadata": {
    "ExecuteTime": {
     "end_time": "2024-03-11T04:42:18.764389700Z",
     "start_time": "2024-03-11T04:42:18.748333800Z"
    },
    "id": "9nyvuxXkhVeb"
   },
   "outputs": [],
   "source": [
    "def counter(func: Callable[P, T]) -> Callable[P, T]:\n",
    "    calls: int = 0\n",
    "    @functools.wraps(func)\n",
    "    def wrapper(*args: P.args, **kwargs: P.kwargs):\n",
    "        r = func(*args, **kwargs)\n",
    "        nonlocal calls\n",
    "        calls += 1\n",
    "        print(f\"Функция была вызвана: {calls} раз\\n\")\n",
    "        return r\n",
    "    return wrapper"
   ]
  },
  {
   "cell_type": "markdown",
   "metadata": {
    "id": "uHn8Adfshz5q"
   },
   "source": [
    "## Задание 4"
   ]
  },
  {
   "cell_type": "code",
   "execution_count": 130,
   "metadata": {
    "ExecuteTime": {
     "end_time": "2024-03-11T05:12:44.532944700Z",
     "start_time": "2024-03-11T05:12:44.379945500Z"
    },
    "id": "R7uu6WtGifNX"
   },
   "outputs": [],
   "source": [
    "def memo(func: Callable[P, T]) -> Callable[P, T]:\n",
    "  cache: dict = dict()\n",
    "  @functools.wraps(func)\n",
    "  def fmemo(*args):\n",
    "    for arg in args:\n",
    "        if not isinstance(arg, typing.Hashable):\n",
    "            raise Exception(\"Передан нехэшируемый аргумент\") \n",
    "          \n",
    "    if not args in cache:\n",
    "        cache[args] = func(*args)\n",
    "    return cache[args]\n",
    "\n",
    "  fmemo.cache = cache\n",
    "  return fmemo"
   ]
  },
  {
   "cell_type": "markdown",
   "metadata": {
    "id": "Zn5UQCa_izxo"
   },
   "source": [
    "## Тестирование"
   ]
  },
  {
   "cell_type": "code",
   "execution_count": 59,
   "metadata": {
    "ExecuteTime": {
     "end_time": "2024-03-11T04:42:23.687127300Z",
     "start_time": "2024-03-11T04:42:19.820004Z"
    },
    "id": "CHCJ64I8i2QB"
   },
   "outputs": [
    {
     "name": "stdout",
     "output_type": "stream",
     "text": [
      "Время выполнения функции word_count: 3.848121166229248\n",
      "\n",
      "Функция вызвана с параметрами:\n",
      "('whole',), {}\n",
      "\n",
      "Функция была вызвана: 1 раз\n",
      "\n",
      "Cлово whole встречается 176 раз\n"
     ]
    }
   ],
   "source": [
    "@counter\n",
    "@logging\n",
    "@benchmark\n",
    "def word_count(word, url=BOOK_PATH):\n",
    "    \"\"\"\n",
    "    Функция для посчета указанного слова на html-странице\n",
    "    \"\"\"\n",
    "\n",
    "    # отправляем запрос в библиотеку Gutenberg и забираем текст\n",
    "    raw = requests.get(url).text\n",
    "\n",
    "    # заменяем в тексте все небуквенные символы на пробелы\n",
    "    processed_book = re.sub('[\\W]+' , ' ', raw).lower()\n",
    "\n",
    "    # считаем\n",
    "    cnt = len(re.findall(word.lower(), processed_book))\n",
    "\n",
    "    return f\"Cлово {word} встречается {cnt} раз\"\n",
    "\n",
    "print(word_count('whole'))"
   ]
  },
  {
   "cell_type": "code",
   "execution_count": 123,
   "metadata": {
    "ExecuteTime": {
     "end_time": "2024-03-11T05:11:03.594118900Z",
     "start_time": "2024-03-11T05:11:03.576082200Z"
    },
    "id": "ZE4Rfn-hh3k3"
   },
   "outputs": [],
   "source": [
    "def fib(n):\n",
    "    if n < 2:\n",
    "        return n\n",
    "    return fib(n-2) + fib(n-1)"
   ]
  },
  {
   "cell_type": "code",
   "execution_count": 124,
   "metadata": {
    "ExecuteTime": {
     "end_time": "2024-03-11T05:11:06.077953600Z",
     "start_time": "2024-03-11T05:11:03.913959100Z"
    },
    "id": "Io94NyjiiXG4"
   },
   "outputs": [
    {
     "name": "stdout",
     "output_type": "stream",
     "text": [
      "26.8 ms ± 7.35 ms per loop (mean ± std. dev. of 7 runs, 10 loops each)\n"
     ]
    }
   ],
   "source": [
    "%%timeit\n",
    "# измеряем время выполнения\n",
    "fib(25)"
   ]
  },
  {
   "cell_type": "code",
   "execution_count": 132,
   "metadata": {
    "ExecuteTime": {
     "end_time": "2024-03-11T05:12:59.646785600Z",
     "start_time": "2024-03-11T05:12:59.598348200Z"
    },
    "id": "W9B3e-t9iTUj"
   },
   "outputs": [],
   "source": [
    "@memo\n",
    "def fib(n):\n",
    "    if n < 2:\n",
    "        return n\n",
    "    return fib(n-2) + fib(n-1)"
   ]
  },
  {
   "cell_type": "code",
   "execution_count": 128,
   "metadata": {
    "ExecuteTime": {
     "end_time": "2024-03-11T05:11:42.617307400Z",
     "start_time": "2024-03-11T05:11:34.960265100Z"
    },
    "id": "Sk6_4KQaidkh"
   },
   "outputs": [
    {
     "name": "stdout",
     "output_type": "stream",
     "text": [
      "946 ns ± 25.9 ns per loop (mean ± std. dev. of 7 runs, 1,000,000 loops each)\n"
     ]
    }
   ],
   "source": [
    "%%timeit\n",
    "# измеряем время выполнения\n",
    "fib(25)"
   ]
  },
  {
   "cell_type": "markdown",
   "metadata": {
    "collapsed": false
   },
   "source": [
    "Вывод: с декоратором метод работает в ~260 000 раз быстрее"
   ]
  }
 ],
 "metadata": {
  "colab": {
   "provenance": []
  },
  "kernelspec": {
   "display_name": "Python 3 (ipykernel)",
   "language": "python",
   "name": "python3"
  },
  "language_info": {
   "name": "python"
  }
 },
 "nbformat": 4,
 "nbformat_minor": 0
}
